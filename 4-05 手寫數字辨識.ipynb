{
 "cells": [
  {
   "cell_type": "markdown",
   "metadata": {},
   "source": [
    "<a href=\"https://colab.research.google.com/github/victorgau/Python_ML_DL/blob/master/4-05%20手寫數字辨識.ipynb\" target=\"_parent\"><img src=\"https://colab.research.google.com/assets/colab-badge.svg\" alt=\"Open In Colab\"/></a>"
   ]
  },
  {
   "cell_type": "markdown",
   "metadata": {},
   "source": [
    "# 手寫數字辨識\n",
    "\n",
    "參考連結：\n",
    "\n",
    "* http://scikit-learn.org/stable/tutorial/basic/tutorial.html\n",
    "* https://archive.ics.uci.edu/ml/datasets/Optical+Recognition+of+Handwritten+Digits"
   ]
  },
  {
   "cell_type": "code",
   "execution_count": null,
   "metadata": {
    "collapsed": false
   },
   "outputs": [],
   "source": [
    "%matplotlib inline\n",
    "import matplotlib.pyplot as plt\n",
    "from sklearn.svm import SVC\n",
    "from sklearn.model_selection import cross_val_score"
   ]
  },
  {
   "cell_type": "markdown",
   "metadata": {},
   "source": [
    "## 使用 sklearn 裡面的數字資料集"
   ]
  },
  {
   "cell_type": "code",
   "execution_count": null,
   "metadata": {
    "collapsed": true
   },
   "outputs": [],
   "source": [
    "from sklearn import datasets\n",
    "\n",
    "digits = datasets.load_digits()"
   ]
  },
  {
   "cell_type": "code",
   "execution_count": null,
   "metadata": {
    "collapsed": false
   },
   "outputs": [],
   "source": [
    "digits.data"
   ]
  },
  {
   "cell_type": "code",
   "execution_count": null,
   "metadata": {
    "collapsed": false
   },
   "outputs": [],
   "source": [
    "digits.target"
   ]
  },
  {
   "cell_type": "code",
   "execution_count": null,
   "metadata": {
    "collapsed": false
   },
   "outputs": [],
   "source": [
    "digits.images[0]"
   ]
  },
  {
   "cell_type": "code",
   "execution_count": null,
   "metadata": {},
   "outputs": [],
   "source": [
    "digits.images[0].shape"
   ]
  },
  {
   "cell_type": "code",
   "execution_count": null,
   "metadata": {},
   "outputs": [],
   "source": [
    "plt.imshow(digits.images[0], cmap=\"gray_r\")"
   ]
  },
  {
   "cell_type": "code",
   "execution_count": null,
   "metadata": {},
   "outputs": [],
   "source": [
    "for i in range(8):\n",
    "    for j in range(8):\n",
    "        plt.subplot(8, 8, i*8+j+1)\n",
    "        plt.imshow(digits.images[i*8+j], cmap=\"gray_r\")"
   ]
  },
  {
   "cell_type": "markdown",
   "metadata": {},
   "source": [
    "## 使用 SVM 來做辨識"
   ]
  },
  {
   "cell_type": "code",
   "execution_count": null,
   "metadata": {
    "collapsed": true
   },
   "outputs": [],
   "source": [
    "clf = SVC(gamma=0.001, C=100.)"
   ]
  },
  {
   "cell_type": "code",
   "execution_count": null,
   "metadata": {},
   "outputs": [],
   "source": [
    "cross_val_score(clf, digits.data, digits.target, cv=10).mean()"
   ]
  },
  {
   "cell_type": "code",
   "execution_count": null,
   "metadata": {
    "collapsed": false
   },
   "outputs": [],
   "source": [
    "# Training the model\n",
    "clf.fit(digits.data, digits.target) "
   ]
  },
  {
   "cell_type": "markdown",
   "metadata": {},
   "source": [
    "## 實際應用"
   ]
  },
  {
   "cell_type": "code",
   "execution_count": null,
   "metadata": {},
   "outputs": [],
   "source": [
    "import cv2"
   ]
  },
  {
   "cell_type": "code",
   "execution_count": null,
   "metadata": {},
   "outputs": [],
   "source": [
    "im = cv2.imread('test2.jpg')\n",
    "imgray = cv2.cvtColor(im,cv2.COLOR_BGR2GRAY)\n",
    "ret,thresh = cv2.threshold(imgray,127,255,0)\n",
    "contours, hierarchy = cv2.findContours(thresh, cv2.RETR_TREE, cv2.CHAIN_APPROX_SIMPLE)"
   ]
  },
  {
   "cell_type": "code",
   "execution_count": null,
   "metadata": {},
   "outputs": [],
   "source": [
    "boxes = []\n",
    "for c in contours:\n",
    "    x, y, w, h = cv2.boundingRect(c)\n",
    "    if 80 < h < 300:\n",
    "        boxes.append((x, y, w, h))"
   ]
  },
  {
   "cell_type": "code",
   "execution_count": null,
   "metadata": {},
   "outputs": [],
   "source": [
    "boxes"
   ]
  },
  {
   "cell_type": "code",
   "execution_count": null,
   "metadata": {},
   "outputs": [],
   "source": [
    "for (x, y, w, h) in boxes:\n",
    "    cv2.rectangle(im, (x, y), (x+w, y+h), (0, 255, 0), 2)"
   ]
  },
  {
   "cell_type": "code",
   "execution_count": null,
   "metadata": {},
   "outputs": [],
   "source": [
    "plt.imshow(im[...,::-1])"
   ]
  },
  {
   "cell_type": "code",
   "execution_count": null,
   "metadata": {},
   "outputs": [],
   "source": [
    "boxes.sort()"
   ]
  },
  {
   "cell_type": "code",
   "execution_count": null,
   "metadata": {},
   "outputs": [],
   "source": [
    "def get_image(x):\n",
    "    return thresh[boxes[x][1]:boxes[x][1]+boxes[x][3],boxes[x][0]:boxes[x][0]+boxes[x][2]]"
   ]
  },
  {
   "cell_type": "markdown",
   "metadata": {},
   "source": [
    "## 不管 Aspect Ratio，直接縮小成 (8, 8) 來辨識看看"
   ]
  },
  {
   "cell_type": "code",
   "execution_count": null,
   "metadata": {},
   "outputs": [],
   "source": [
    "fig = plt.figure()\n",
    "c = len(boxes)\n",
    "for n in range(c):\n",
    "    testimg = cv2.resize(get_image(n), (8, 8), interpolation = cv2.INTER_AREA)\n",
    "    testimg = (255-testimg)/255*16\n",
    "    fig.add_subplot(1, c, n+1)\n",
    "    plt.imshow(testimg, cmap=\"gray_r\")\n",
    "    testimg = testimg.reshape(1, 64)\n",
    "    plt.title(clf.predict(testimg)[0])"
   ]
  },
  {
   "cell_type": "code",
   "execution_count": null,
   "metadata": {},
   "outputs": [],
   "source": [
    "n = 6\n",
    "h, w = get_image(n).shape\n",
    "ratio = 8 / h\n",
    "nw = int(w * ratio)\n",
    "testimg = cv2.resize(get_image(n), (nw, 8), interpolation = cv2.INTER_AREA)\n",
    "testimg = (255-testimg)/255*16\n",
    "p1 = (8-nw)//2\n",
    "p2 = 8-p1-nw\n",
    "p01 = np.zeros((8, p1))\n",
    "p02 = np.zeros((8, p2))\n",
    "testimg = np.hstack((p01, testimg, p02))\n",
    "plt.imshow(testimg, cmap=\"gray_r\")\n",
    "testimg = testimg.reshape(1, 64)\n",
    "clf.predict(testimg)"
   ]
  },
  {
   "cell_type": "code",
   "execution_count": null,
   "metadata": {},
   "outputs": [],
   "source": [
    "fig = plt.figure()\n",
    "c = len(boxes)\n",
    "for n in range(c):\n",
    "    h, w = get_image(n).shape\n",
    "    ratio = 8 / h\n",
    "    nw = int(w * ratio+0.5)\n",
    "    testimg = cv2.resize(get_image(n), (nw, 8), interpolation = cv2.INTER_AREA)\n",
    "    testimg = (255-testimg)/255*16\n",
    "    p1 = (8-nw)//2\n",
    "    p2 = 8-p1-nw\n",
    "    p01 = np.zeros((8, p1))\n",
    "    p02 = np.zeros((8, p2))\n",
    "    testimg = np.hstack((p01, testimg, p02))\n",
    "    fig.add_subplot(1, c, n+1)\n",
    "    plt.imshow(testimg, cmap=\"gray_r\")\n",
    "    testimg = testimg.reshape(1, 64)\n",
    "    plt.title(clf.predict(testimg)[0])"
   ]
  }
 ],
 "metadata": {
  "kernelspec": {
   "display_name": "Python 3",
   "language": "python",
   "name": "python3"
  },
  "language_info": {
   "codemirror_mode": {
    "name": "ipython",
    "version": 3
   },
   "file_extension": ".py",
   "mimetype": "text/x-python",
   "name": "python",
   "nbconvert_exporter": "python",
   "pygments_lexer": "ipython3",
   "version": "3.7.1"
  }
 },
 "nbformat": 4,
 "nbformat_minor": 2
}
