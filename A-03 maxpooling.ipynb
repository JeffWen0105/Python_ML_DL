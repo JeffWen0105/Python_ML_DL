{
  "nbformat": 4,
  "nbformat_minor": 0,
  "metadata": {
    "colab": {
      "name": "maxpooling.ipynb",
      "provenance": [],
      "collapsed_sections": []
    },
    "kernelspec": {
      "name": "python3",
      "display_name": "Python 3"
    }
  },
  "cells": [
    {
      "cell_type": "code",
      "metadata": {
        "id": "LgQ9IskMU7n3",
        "colab_type": "code",
        "colab": {}
      },
      "source": [
        "%matplotlib inline\n",
        "import numpy as np\n",
        "from skimage.measure import block_reduce\n",
        "import matplotlib.pyplot as plt"
      ],
      "execution_count": 0,
      "outputs": []
    },
    {
      "cell_type": "code",
      "metadata": {
        "id": "iS9qqNX7ZmuQ",
        "colab_type": "code",
        "colab": {}
      },
      "source": [
        "def maxpooling(x, size):\n",
        "  return block_reduce(x, size, np.max)"
      ],
      "execution_count": 0,
      "outputs": []
    },
    {
      "cell_type": "code",
      "metadata": {
        "id": "06iUSg19cxxv",
        "colab_type": "code",
        "colab": {}
      },
      "source": [
        "def averagepooling(x, size):\n",
        "  return block_reduce(x, size, np.mean)"
      ],
      "execution_count": 0,
      "outputs": []
    },
    {
      "cell_type": "code",
      "metadata": {
        "id": "NE-KW2bBVBkp",
        "colab_type": "code",
        "colab": {}
      },
      "source": [
        "def visualize(x):\n",
        "  fig, ax = plt.subplots(figsize=x.shape)\n",
        "  ax.matshow(x, cmap=plt.cm.Blues, alpha=0.3)\n",
        "  for i in range(x.shape[0]):\n",
        "      for j in range(x.shape[1]):\n",
        "          ax.text(x=j, y=i, s=x[i, j], va='center', ha='center')\n",
        "\n",
        "  ax.grid(False)\n",
        "  ax.set_xticks([])\n",
        "  ax.set_yticks([])\n",
        "\n",
        "  for i in np.linspace(0.5,x.shape[0]-1.5,x.shape[0]-1):\n",
        "    ax.axhline(i, c='k', lw=1)\n",
        "  \n",
        "  for i in np.linspace(0.5,x.shape[1]-1.5,x.shape[1]-1):\n",
        "    ax.axvline(i, c='k', lw=1)"
      ],
      "execution_count": 0,
      "outputs": []
    },
    {
      "cell_type": "code",
      "metadata": {
        "id": "8qjfRlfYZVSr",
        "colab_type": "code",
        "colab": {}
      },
      "source": [
        "x = np.random.randint(0, 16, (4, 4))"
      ],
      "execution_count": 0,
      "outputs": []
    },
    {
      "cell_type": "code",
      "metadata": {
        "id": "axI5cH9bZZee",
        "colab_type": "code",
        "colab": {}
      },
      "source": [
        "visualize(x)"
      ],
      "execution_count": 0,
      "outputs": []
    },
    {
      "cell_type": "code",
      "metadata": {
        "id": "V6RRG1_iZazM",
        "colab_type": "code",
        "colab": {}
      },
      "source": [
        "newx = maxpooling(x,(2,2))"
      ],
      "execution_count": 0,
      "outputs": []
    },
    {
      "cell_type": "code",
      "metadata": {
        "id": "91LWrKKqZ_aD",
        "colab_type": "code",
        "colab": {}
      },
      "source": [
        "visualize(newx)"
      ],
      "execution_count": 0,
      "outputs": []
    }
  ]
}