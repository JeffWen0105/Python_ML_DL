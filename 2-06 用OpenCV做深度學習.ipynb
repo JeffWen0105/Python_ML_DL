{
 "cells": [
  {
   "cell_type": "markdown",
   "metadata": {},
   "source": [
    "<a href=\"https://colab.research.google.com/github/victorgau/Python_ML_DL/blob/master/2-06%20用OpenCV做深度學習.ipynb\" target=\"_parent\"><img src=\"https://colab.research.google.com/assets/colab-badge.svg\" alt=\"Open In Colab\"/></a>"
   ]
  },
  {
   "cell_type": "markdown",
   "metadata": {
    "colab_type": "text",
    "id": "MBbaP6tX1Tdc"
   },
   "source": [
    "# 使用 OpenCV 做深度學習\n",
    "\n",
    "參考資料：\n",
    "* https://docs.opencv.org/3.4.9/d5/de7/tutorial_dnn_googlenet.html\n",
    "* https://caffe.berkeleyvision.org/\n",
    "* https://kknews.cc/zh-tw/tech/oynymxq.html\n",
    "* https://www.geeksforgeeks.org/opencv-python-tutorial/"
   ]
  },
  {
   "cell_type": "markdown",
   "metadata": {
    "colab_type": "text",
    "id": "_MK2LYIeG-zQ"
   },
   "source": [
    "## 讀取需要的檔案"
   ]
  },
  {
   "cell_type": "code",
   "execution_count": null,
   "metadata": {
    "colab": {},
    "colab_type": "code",
    "id": "3dpGrDr61TIx"
   },
   "outputs": [],
   "source": [
    "# !wget https://raw.githubusercontent.com/opencv/opencv/3.4.0/samples/data/dnn/synset_words.txt -o /dev/null\n",
    "!wget https://github.com/opencv/opencv/raw/3.4/samples/data/dnn/classification_classes_ILSVRC2012.txt -o /dev/null\n",
    "!wget https://raw.githubusercontent.com/opencv/opencv/3.4.0/samples/data/dnn/bvlc_googlenet.prototxt -o /dev/null\n",
    "!wget http://dl.caffe.berkeleyvision.org/bvlc_googlenet.caffemodel -o /dev/null"
   ]
  },
  {
   "cell_type": "markdown",
   "metadata": {
    "colab_type": "text",
    "id": "0s7tnh1zHIaO"
   },
   "source": [
    "## 下載用來測試的圖片檔"
   ]
  },
  {
   "cell_type": "code",
   "execution_count": null,
   "metadata": {
    "colab": {},
    "colab_type": "code",
    "id": "I04YNyN0DwmU"
   },
   "outputs": [],
   "source": [
    "!wget https://ohh.okinawa/wpdir/wp-content/uploads/2018/07/cfab00b444553c6a7ae4f272c5cf7783.jpg -o /dev/null -O image.jpg"
   ]
  },
  {
   "cell_type": "markdown",
   "metadata": {
    "colab_type": "text",
    "id": "_E92070VHPau"
   },
   "source": [
    "## 載入 OpenCV，讀入圖形檔"
   ]
  },
  {
   "cell_type": "code",
   "execution_count": null,
   "metadata": {
    "colab": {},
    "colab_type": "code",
    "id": "TUZsiTTD0cMG"
   },
   "outputs": [],
   "source": [
    "import cv2"
   ]
  },
  {
   "cell_type": "code",
   "execution_count": null,
   "metadata": {
    "colab": {},
    "colab_type": "code",
    "id": "IM5Ult8Y004K"
   },
   "outputs": [],
   "source": [
    "cv2.__version__"
   ]
  },
  {
   "cell_type": "code",
   "execution_count": null,
   "metadata": {
    "colab": {},
    "colab_type": "code",
    "id": "oEkwkGo804LQ"
   },
   "outputs": [],
   "source": [
    "img = cv2.imread('image.jpg')"
   ]
  },
  {
   "cell_type": "markdown",
   "metadata": {
    "colab_type": "text",
    "id": "UjU-xEVWHW0v"
   },
   "source": [
    "## 使用 GoogleNet 分析圖形內容"
   ]
  },
  {
   "cell_type": "code",
   "execution_count": null,
   "metadata": {
    "colab": {},
    "colab_type": "code",
    "id": "0TrppMOS1BQA"
   },
   "outputs": [],
   "source": [
    "net = cv2.dnn.readNetFromCaffe(\"bvlc_googlenet.prototxt\",\"bvlc_googlenet.caffemodel\")"
   ]
  },
  {
   "cell_type": "code",
   "execution_count": null,
   "metadata": {
    "colab": {},
    "colab_type": "code",
    "id": "Z8yuQECjBFp4"
   },
   "outputs": [],
   "source": [
    "blob = cv2.dnn.blobFromImage(img, 1, (224, 224))"
   ]
  },
  {
   "cell_type": "code",
   "execution_count": null,
   "metadata": {
    "colab": {},
    "colab_type": "code",
    "id": "tdDIIdQIBggw"
   },
   "outputs": [],
   "source": [
    "net.setInput(blob)"
   ]
  },
  {
   "cell_type": "code",
   "execution_count": null,
   "metadata": {
    "colab": {},
    "colab_type": "code",
    "id": "gJzEN7i5BUxy"
   },
   "outputs": [],
   "source": [
    "prob = net.forward()"
   ]
  },
  {
   "cell_type": "markdown",
   "metadata": {
    "colab_type": "text",
    "id": "pT03MbFdGsfv"
   },
   "source": [
    "## 讀取分類類別名稱"
   ]
  },
  {
   "cell_type": "code",
   "execution_count": null,
   "metadata": {
    "colab": {},
    "colab_type": "code",
    "id": "jmVc9PFQBvg3"
   },
   "outputs": [],
   "source": [
    "# with open(\"synset_words.txt\") as f:\n",
    "#   c = f.read().split(\"\\n\")"
   ]
  },
  {
   "cell_type": "code",
   "execution_count": null,
   "metadata": {
    "colab": {},
    "colab_type": "code",
    "id": "OpGoZXPSFUas"
   },
   "outputs": [],
   "source": [
    "with open(\"classification_classes_ILSVRC2012.txt\") as f:\n",
    "  c = f.read().split(\"\\n\")"
   ]
  },
  {
   "cell_type": "code",
   "execution_count": null,
   "metadata": {
    "colab": {
     "base_uri": "https://localhost:8080/",
     "height": 34
    },
    "colab_type": "code",
    "id": "SFzLCaqOFaK_",
    "outputId": "b9d66a75-015c-4c1a-fe19-59d1e8bc294d"
   },
   "outputs": [],
   "source": [
    "len(c)"
   ]
  },
  {
   "cell_type": "code",
   "execution_count": null,
   "metadata": {
    "colab": {},
    "colab_type": "code",
    "id": "W0iwZD-4CYCy"
   },
   "outputs": [],
   "source": [
    "del c[-1]"
   ]
  },
  {
   "cell_type": "code",
   "execution_count": null,
   "metadata": {
    "colab": {},
    "colab_type": "code",
    "id": "PuanCkfQCjg_"
   },
   "outputs": [],
   "source": [
    "import pandas as pd"
   ]
  },
  {
   "cell_type": "code",
   "execution_count": null,
   "metadata": {
    "colab": {},
    "colab_type": "code",
    "id": "MzuKbi3aCqsh"
   },
   "outputs": [],
   "source": [
    "df = pd.DataFrame(prob[0], columns=['機率'])"
   ]
  },
  {
   "cell_type": "code",
   "execution_count": null,
   "metadata": {
    "colab": {},
    "colab_type": "code",
    "id": "WIV9_0o1Ct0R"
   },
   "outputs": [],
   "source": [
    "df['類別'] = c"
   ]
  },
  {
   "cell_type": "markdown",
   "metadata": {
    "colab_type": "text",
    "id": "gxHud5v_Hlf_"
   },
   "source": [
    "## 排序並輸出機率最大的類別"
   ]
  },
  {
   "cell_type": "code",
   "execution_count": null,
   "metadata": {
    "colab": {
     "base_uri": "https://localhost:8080/",
     "height": 203
    },
    "colab_type": "code",
    "id": "w8ymVsJrDC-H",
    "outputId": "d05e66b2-7a40-45b2-9abf-e77c3d5673fb"
   },
   "outputs": [],
   "source": [
    "df.sort_values('機率',ascending=False).head()"
   ]
  }
 ],
 "metadata": {
  "colab": {
   "name": "用OpenCV做深度學習.ipynb",
   "provenance": []
  },
  "kernelspec": {
   "display_name": "Python 3",
   "language": "python",
   "name": "python3"
  },
  "language_info": {
   "codemirror_mode": {
    "name": "ipython",
    "version": 3
   },
   "file_extension": ".py",
   "mimetype": "text/x-python",
   "name": "python",
   "nbconvert_exporter": "python",
   "pygments_lexer": "ipython3",
   "version": "3.7.1"
  }
 },
 "nbformat": 4,
 "nbformat_minor": 2
}
