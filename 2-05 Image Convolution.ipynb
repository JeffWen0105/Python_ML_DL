{
 "cells": [
  {
   "cell_type": "markdown",
   "metadata": {},
   "source": [
    "<a href=\"https://colab.research.google.com/github/victorgau/Python_ML_DL/blob/master/2-05%20Image%20Convolution.ipynb\" target=\"_parent\"><img src=\"https://colab.research.google.com/assets/colab-badge.svg\" alt=\"Open In Colab\"/></a>"
   ]
  },
  {
   "cell_type": "markdown",
   "metadata": {
    "colab_type": "text",
    "id": "cJDMD4JDXnhU"
   },
   "source": [
    "# Image Convolution"
   ]
  },
  {
   "cell_type": "markdown",
   "metadata": {},
   "source": [
    "參考連結：\n",
    "\n",
    "* https://en.wikipedia.org/wiki/Kernel_(image_processing)\n",
    "* https://en.wikipedia.org/wiki/Sobel_operator\n",
    "* https://github.com/paritoshM9/EIP2/blob/master/Assignment1/Assignment%20-%201.md\n",
    "* https://miro.medium.com/max/1052/0*dSjXKGG6kJ5kVUgJ"
   ]
  },
  {
   "cell_type": "markdown",
   "metadata": {},
   "source": [
    "## 載入所需的模組"
   ]
  },
  {
   "cell_type": "code",
   "execution_count": null,
   "metadata": {
    "colab": {},
    "colab_type": "code",
    "id": "LlV2OAluXma-"
   },
   "outputs": [],
   "source": [
    "%matplotlib inline\n",
    "import numpy as np\n",
    "from scipy import ndimage\n",
    "from PIL import Image\n",
    "import matplotlib.pyplot as plt"
   ]
  },
  {
   "cell_type": "code",
   "execution_count": null,
   "metadata": {
    "colab": {},
    "colab_type": "code",
    "id": "1GyfSjZgZRrs"
   },
   "outputs": [],
   "source": [
    "!wget https://upload.wikimedia.org/wikipedia/en/7/7d/Lenna_%28test_image%29.png -o /dev/null\n",
    "!wget https://upload.wikimedia.org/wikipedia/commons/f/f0/Valve_original_%281%29.PNG -o /dev/null"
   ]
  },
  {
   "cell_type": "markdown",
   "metadata": {
    "colab_type": "text",
    "id": "OMPUs3bDX0z1"
   },
   "source": [
    "## 讀取影像"
   ]
  },
  {
   "cell_type": "code",
   "execution_count": null,
   "metadata": {
    "colab": {},
    "colab_type": "code",
    "id": "l1i5vZMvXwwO"
   },
   "outputs": [],
   "source": [
    "# 讀取影像\n",
    "img = Image.open('/content/Valve_original_(1).PNG')"
   ]
  },
  {
   "cell_type": "code",
   "execution_count": null,
   "metadata": {
    "colab": {},
    "colab_type": "code",
    "id": "gRKyOO5PX6L5"
   },
   "outputs": [],
   "source": [
    "img.size"
   ]
  },
  {
   "cell_type": "code",
   "execution_count": null,
   "metadata": {
    "colab": {},
    "colab_type": "code",
    "id": "iNwhIUXeX9YJ"
   },
   "outputs": [],
   "source": [
    "img.mode"
   ]
  },
  {
   "cell_type": "code",
   "execution_count": null,
   "metadata": {
    "colab": {},
    "colab_type": "code",
    "id": "Z3KWzhN1YBSY"
   },
   "outputs": [],
   "source": [
    "# 將彩色影像轉換成灰階影像\n",
    "img_gray = img.convert('L')"
   ]
  },
  {
   "cell_type": "code",
   "execution_count": null,
   "metadata": {
    "colab": {},
    "colab_type": "code",
    "id": "oMe8NTNWYF03"
   },
   "outputs": [],
   "source": [
    "img_gray.mode"
   ]
  },
  {
   "cell_type": "code",
   "execution_count": null,
   "metadata": {
    "colab": {},
    "colab_type": "code",
    "id": "_6MzrpoQYKiZ"
   },
   "outputs": [],
   "source": [
    "img_array = np.array(img_gray).astype(float)"
   ]
  },
  {
   "cell_type": "code",
   "execution_count": null,
   "metadata": {
    "colab": {},
    "colab_type": "code",
    "id": "y_L4GyaaYPUf"
   },
   "outputs": [],
   "source": [
    "plt.imshow(img_array, cmap='gray');"
   ]
  },
  {
   "cell_type": "code",
   "execution_count": null,
   "metadata": {
    "colab": {},
    "colab_type": "code",
    "id": "J6MLHIfbZsJL"
   },
   "outputs": [],
   "source": [
    "plt.imshow(img_array, cmap='gray');\n",
    "plt.axis('off');"
   ]
  },
  {
   "cell_type": "code",
   "execution_count": null,
   "metadata": {
    "colab": {},
    "colab_type": "code",
    "id": "VR_fz6fZYTHK"
   },
   "outputs": [],
   "source": [
    "img_array.shape"
   ]
  },
  {
   "cell_type": "markdown",
   "metadata": {
    "colab_type": "text",
    "id": "PfRVZptnYZIP"
   },
   "source": [
    "## Image Convolution (使用sobel filter)\n",
    "\n",
    "相關連結：\n",
    "\n",
    "https://en.wikipedia.org/wiki/Sobel_operator"
   ]
  },
  {
   "cell_type": "code",
   "execution_count": null,
   "metadata": {
    "colab": {},
    "colab_type": "code",
    "id": "_jpuZ9FqYYVn"
   },
   "outputs": [],
   "source": [
    "sobelx = np.array([[1, 0, -1], [2, 0, -2], [1, 0, -1]], dtype = np.float)"
   ]
  },
  {
   "cell_type": "code",
   "execution_count": null,
   "metadata": {
    "colab": {},
    "colab_type": "code",
    "id": "v2mUrimHYlBQ"
   },
   "outputs": [],
   "source": [
    "sobely = np.array([[1, 2, 1], [0, 0, 0], [-1, -2, -1]], dtype = np.float)"
   ]
  },
  {
   "cell_type": "code",
   "execution_count": null,
   "metadata": {
    "colab": {},
    "colab_type": "code",
    "id": "ozPnF6RaYqAf"
   },
   "outputs": [],
   "source": [
    "# Convolution\n",
    "outx = ndimage.convolve(img_array, sobelx)"
   ]
  },
  {
   "cell_type": "code",
   "execution_count": null,
   "metadata": {
    "colab": {},
    "colab_type": "code",
    "id": "-0qAM9_jYq8d"
   },
   "outputs": [],
   "source": [
    "plt.imshow(outx, cmap='gray');"
   ]
  },
  {
   "cell_type": "code",
   "execution_count": null,
   "metadata": {
    "colab": {},
    "colab_type": "code",
    "id": "diGWPzUOYvds"
   },
   "outputs": [],
   "source": [
    "outy = ndimage.convolve(img_array, sobely)"
   ]
  },
  {
   "cell_type": "code",
   "execution_count": null,
   "metadata": {
    "colab": {},
    "colab_type": "code",
    "id": "XnUrK0PNYw5G"
   },
   "outputs": [],
   "source": [
    "plt.imshow(outy, cmap='gray');"
   ]
  },
  {
   "cell_type": "code",
   "execution_count": null,
   "metadata": {
    "colab": {},
    "colab_type": "code",
    "id": "NdxymQYOY0Nq"
   },
   "outputs": [],
   "source": [
    "out = np.sqrt(outx*outx+outy*outy)"
   ]
  },
  {
   "cell_type": "code",
   "execution_count": null,
   "metadata": {
    "colab": {},
    "colab_type": "code",
    "id": "Foj9NM22Y2tj"
   },
   "outputs": [],
   "source": [
    "plt.imshow(out, cmap='gray');"
   ]
  }
 ],
 "metadata": {
  "colab": {
   "name": "Image Convolution.ipynb",
   "provenance": [],
   "toc_visible": true
  },
  "kernelspec": {
   "display_name": "Python 3",
   "language": "python",
   "name": "python3"
  },
  "language_info": {
   "codemirror_mode": {
    "name": "ipython",
    "version": 3
   },
   "file_extension": ".py",
   "mimetype": "text/x-python",
   "name": "python",
   "nbconvert_exporter": "python",
   "pygments_lexer": "ipython3",
   "version": "3.7.1"
  }
 },
 "nbformat": 4,
 "nbformat_minor": 2
}
