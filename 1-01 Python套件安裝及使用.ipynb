{
 "cells": [
  {
   "cell_type": "markdown",
   "metadata": {
    "slideshow": {
     "slide_type": "slide"
    }
   },
   "source": [
    "# Python 套件安裝及使用"
   ]
  },
  {
   "cell_type": "markdown",
   "metadata": {
    "slideshow": {
     "slide_type": "subslide"
    }
   },
   "source": [
    "## 如何安裝套件？\n",
    "\n",
    "1. 使用 pip 安裝套件\n",
    "2. 使用 conda 安裝套件"
   ]
  },
  {
   "cell_type": "markdown",
   "metadata": {},
   "source": [
    "---"
   ]
  },
  {
   "cell_type": "markdown",
   "metadata": {
    "slideshow": {
     "slide_type": "subslide"
    }
   },
   "source": [
    "## 1. 使用[pip](https://pip.pypa.io/en/stable/)安裝套件\n",
    "\n",
    "\n",
    "* <font color=\"red\">安裝套件</font>\n",
    "```\n",
    "c:\\> pip install <package>\n",
    "```\n",
    "\n",
    "* <font color=\"red\">更新套件</font>\n",
    "```\n",
    "c:\\> pip install --upgrade <package>\n",
    "```\n",
    "\n",
    "* <font color=\"red\">移除套件</font>\n",
    "```\n",
    "c:\\> pip uninstall <package>\n",
    "```\n",
    "    \n",
    "* 搜尋套件\n",
    "```\n",
    "c:\\> pip search <package>\n",
    "```\n",
    "\n",
    "* 列出已安裝套件\n",
    "```\n",
    "c:\\> pip list\n",
    "```\n",
    "\n",
    "* 列出已安裝套件 (requirement format)\n",
    "```\n",
    "c:\\> pip freeze\n",
    "```\n",
    "\n",
    "* 將已安裝之套件及版本輸出成文字檔\n",
    "```\n",
    "c:\\ pip freeze > requirements.txt\n",
    "```\n",
    "\n",
    "* 從 requirements.txt 安裝對應套件\n",
    "```\n",
    "c:\\ pip install -r requirements.txt\n",
    "```"
   ]
  },
  {
   "cell_type": "markdown",
   "metadata": {},
   "source": [
    "---"
   ]
  },
  {
   "cell_type": "markdown",
   "metadata": {
    "slideshow": {
     "slide_type": "subslide"
    }
   },
   "source": [
    "## 2. 使用 conda 安裝套件\n",
    "\n",
    "* <font color=\"red\">安裝 package</font>\n",
    "```\n",
    "c:\\> conda install -n yourenvname <package>\n",
    "# 注意：如果沒有加 \"-n yourenvname\"，則套件會被安裝到 root env\n",
    "```\n",
    "\n",
    "* <font color=\"red\">移除 package</font>\n",
    "```\n",
    "c:\\> conda uninstall -n yourenvname <package>\n",
    "```\n",
    "\n",
    "* 檢查 conda 的版本\n",
    "```\n",
    "c:\\> conda -V\n",
    "```\n",
    "\n",
    "* 更新 conda\n",
    "```\n",
    "c:\\> conda update conda\n",
    "```\n"
   ]
  },
  {
   "cell_type": "markdown",
   "metadata": {},
   "source": [
    "---"
   ]
  },
  {
   "cell_type": "markdown",
   "metadata": {
    "slideshow": {
     "slide_type": "subslide"
    }
   },
   "source": [
    "## 怎麼載入模組及套件？\n",
    "\n",
    "* import\n",
    "  - 載入模組\n",
    "* import... as...\n",
    "  - 載入模組，並取別名\n",
    "* from... import...\n",
    "  - 從套件中載入模組，或從模組中載入類別等等"
   ]
  },
  {
   "cell_type": "markdown",
   "metadata": {},
   "source": [
    "---"
   ]
  },
  {
   "cell_type": "markdown",
   "metadata": {
    "slideshow": {
     "slide_type": "subslide"
    }
   },
   "source": [
    "## jupyter notebook 常用的熱鍵或指令\n",
    "* 執行區塊：\n",
    "    - Shfit + Enter 執行該 cell 且跳下一個 cell\n",
    "    - Ctrl + Enter 執行該 cell (但停在該 cell)\n",
    "* 自動填滿：Tab 鍵\n",
    "* 提示引數：Shift + Tab\n",
    "* 線上諮詢：\n",
    "    - ?ObjectName\n",
    "    - ObjectName?\n",
    "* 註解：\n",
    "    - 單行註解 #\n",
    "    - 多行註解 '''  '''"
   ]
  },
  {
   "cell_type": "markdown",
   "metadata": {},
   "source": [
    "---"
   ]
  },
  {
   "cell_type": "markdown",
   "metadata": {},
   "source": [
    "## jupyter notebook 魔術命令"
   ]
  },
  {
   "cell_type": "code",
   "execution_count": null,
   "metadata": {
    "slideshow": {
     "slide_type": "subslide"
    }
   },
   "outputs": [],
   "source": [
    "# 魔術命令 (Magic Commands) 清單\n",
    "%lsmagic"
   ]
  },
  {
   "cell_type": "code",
   "execution_count": null,
   "metadata": {},
   "outputs": [],
   "source": [
    "%ls"
   ]
  },
  {
   "cell_type": "code",
   "execution_count": null,
   "metadata": {},
   "outputs": [],
   "source": [
    "%%time\n",
    "\n",
    "count = 0\n",
    "for i in range(1000000):\n",
    "    count += 1"
   ]
  },
  {
   "cell_type": "markdown",
   "metadata": {},
   "source": [
    "---"
   ]
  },
  {
   "cell_type": "markdown",
   "metadata": {
    "slideshow": {
     "slide_type": "slide"
    }
   },
   "source": [
    "# Python 的模組及套件"
   ]
  },
  {
   "cell_type": "markdown",
   "metadata": {
    "slideshow": {
     "slide_type": "subslide"
    }
   },
   "source": [
    "## 什麼是模組？\n",
    "\n",
    "* 每個 .py 的檔案就是一個模組\n",
    "* 模組可以被直接執行，也可以被載入其他模組內執行\n",
    "* 每個模組有一個特殊屬性: \"\\_\\_name\\_\\_\"\n",
    "  - 如果模組被直接執行，\"\\_\\_name\\_\\_\"屬性的值為\"\\_\\_main\\_\\_\"。\n",
    "  - 如果被載入其他模組，\"\\_\\_name\\_\\_\"屬性的值為自己的模組名稱。"
   ]
  },
  {
   "cell_type": "markdown",
   "metadata": {
    "slideshow": {
     "slide_type": "subslide"
    }
   },
   "source": [
    "## 什麼是套件？\n",
    "\n",
    "* 套件為用來管理模組的目錄架構。\n",
    "* 每個套件目錄底下，必須有一個名為\"\\_\\_init\\_\\_.py\"的檔案。"
   ]
  },
  {
   "cell_type": "markdown",
   "metadata": {},
   "source": [
    "---"
   ]
  },
  {
   "cell_type": "markdown",
   "metadata": {
    "slideshow": {
     "slide_type": "subslide"
    }
   },
   "source": [
    "## 使用 conda 建立虛擬環境 (Virtual Environment)\n",
    "\n",
    "\n",
    "* 建立 virtual environment\n",
    "```\n",
    "c:\\> conda create -n yourenvname python=x.x\n",
    "```\n",
    "\n",
    "* 列出所有 virtual environment\n",
    "```\n",
    "c:\\> conda info -e\n",
    "```\n",
    "\n",
    "* 啟動 virtual environment\n",
    "```\n",
    "c:\\> source activate yourenvname\n",
    "```\n",
    "\n",
    "* 停止 virtual environment\n",
    "```\n",
    "c:\\> source deactivate\n",
    "```\n",
    "\n",
    "* 刪除 virtual environment\n",
    "```\n",
    "c:\\> conda remove -n yourenvname --all\n",
    "```"
   ]
  }
 ],
 "metadata": {
  "anaconda-cloud": {},
  "kernelspec": {
   "display_name": "Python 3",
   "language": "python",
   "name": "python3"
  },
  "language_info": {
   "codemirror_mode": {
    "name": "ipython",
    "version": 3
   },
   "file_extension": ".py",
   "mimetype": "text/x-python",
   "name": "python",
   "nbconvert_exporter": "python",
   "pygments_lexer": "ipython3",
   "version": "3.7.1"
  },
  "livereveal": {
   "scroll": true
  },
  "nbpresent": {
   "slides": {},
   "themes": {
    "default": "56b38c57-4ffe-478a-9f92-8ca64a17c67c",
    "theme": {
     "56b38c57-4ffe-478a-9f92-8ca64a17c67c": {
      "id": "56b38c57-4ffe-478a-9f92-8ca64a17c67c",
      "palette": {
       "19cc588f-0593-49c9-9f4b-e4d7cc113b1c": {
        "id": "19cc588f-0593-49c9-9f4b-e4d7cc113b1c",
        "rgb": [
         252,
         252,
         252
        ]
       },
       "31af15d2-7e15-44c5-ab5e-e04b16a89eff": {
        "id": "31af15d2-7e15-44c5-ab5e-e04b16a89eff",
        "rgb": [
         68,
         68,
         68
        ]
       },
       "50f92c45-a630-455b-aec3-788680ec7410": {
        "id": "50f92c45-a630-455b-aec3-788680ec7410",
        "rgb": [
         155,
         177,
         192
        ]
       },
       "c5cc3653-2ee1-402a-aba2-7caae1da4f6c": {
        "id": "c5cc3653-2ee1-402a-aba2-7caae1da4f6c",
        "rgb": [
         43,
         126,
         184
        ]
       },
       "efa7f048-9acb-414c-8b04-a26811511a21": {
        "id": "efa7f048-9acb-414c-8b04-a26811511a21",
        "rgb": [
         25.118061674008803,
         73.60176211453744,
         107.4819383259912
        ]
       }
      },
      "rules": {
       "blockquote": {
        "color": "50f92c45-a630-455b-aec3-788680ec7410"
       },
       "code": {
        "font-family": "Anonymous Pro"
       },
       "h1": {
        "color": "c5cc3653-2ee1-402a-aba2-7caae1da4f6c",
        "font-family": "Lato",
        "font-size": 8
       },
       "h2": {
        "color": "c5cc3653-2ee1-402a-aba2-7caae1da4f6c",
        "font-family": "Lato",
        "font-size": 6
       },
       "h3": {
        "color": "50f92c45-a630-455b-aec3-788680ec7410",
        "font-family": "Lato",
        "font-size": 5.5
       },
       "h4": {
        "color": "c5cc3653-2ee1-402a-aba2-7caae1da4f6c",
        "font-family": "Lato",
        "font-size": 5
       },
       "h5": {
        "font-family": "Lato"
       },
       "h6": {
        "font-family": "Lato"
       },
       "h7": {
        "font-family": "Lato"
       },
       "pre": {
        "font-family": "Anonymous Pro",
        "font-size": 4
       }
      },
      "text-base": {
       "font-family": "Merriweather",
       "font-size": 4
      }
     }
    }
   }
  }
 },
 "nbformat": 4,
 "nbformat_minor": 2
}
