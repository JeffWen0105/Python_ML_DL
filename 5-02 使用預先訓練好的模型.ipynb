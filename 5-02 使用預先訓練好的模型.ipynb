{
  "nbformat": 4,
  "nbformat_minor": 0,
  "metadata": {
    "anaconda-cloud": {},
    "kernelspec": {
      "display_name": "Python [conda root]",
      "language": "python",
      "name": "conda-root-py"
    },
    "language_info": {
      "codemirror_mode": {
        "name": "ipython",
        "version": 3
      },
      "file_extension": ".py",
      "mimetype": "text/x-python",
      "name": "python",
      "nbconvert_exporter": "python",
      "pygments_lexer": "ipython3",
      "version": "3.6.3"
    },
    "colab": {
      "name": "5-02 使用預先訓練好的模型.ipynb",
      "provenance": [],
      "collapsed_sections": []
    }
  },
  "cells": [
    {
      "cell_type": "markdown",
      "metadata": {
        "id": "IM502CFrhsmf",
        "colab_type": "text"
      },
      "source": [
        "# 使用預先訓練好的模型"
      ]
    },
    {
      "cell_type": "code",
      "metadata": {
        "id": "pPHVCIzlhsmg",
        "colab_type": "code",
        "colab": {}
      },
      "source": [
        "%matplotlib inline\n",
        "import numpy as np\n",
        "import matplotlib.pyplot as plt"
      ],
      "execution_count": 0,
      "outputs": []
    },
    {
      "cell_type": "markdown",
      "metadata": {
        "id": "pa_Wu4MPiXF9",
        "colab_type": "text"
      },
      "source": [
        "## 載入神經網路"
      ]
    },
    {
      "cell_type": "code",
      "metadata": {
        "id": "NDF8nX8xiaRm",
        "colab_type": "code",
        "colab": {}
      },
      "source": [
        "from keras.models import load_model\n",
        "model = load_model('my_model')"
      ],
      "execution_count": 0,
      "outputs": []
    },
    {
      "cell_type": "markdown",
      "metadata": {
        "id": "m_GfrpCphsmx",
        "colab_type": "text"
      },
      "source": [
        "## 載入mnist資料集來做測試"
      ]
    },
    {
      "cell_type": "code",
      "metadata": {
        "id": "tIqiWOfShsmy",
        "colab_type": "code",
        "colab": {}
      },
      "source": [
        "from keras.datasets import mnist\n",
        "(x_train, y_train), (x_test, y_test) = mnist.load_data()"
      ],
      "execution_count": 0,
      "outputs": []
    },
    {
      "cell_type": "code",
      "metadata": {
        "id": "2Kyehwgrhsm2",
        "colab_type": "code",
        "colab": {}
      },
      "source": [
        "x_test = x_test.reshape(10000, 784)"
      ],
      "execution_count": 0,
      "outputs": []
    },
    {
      "cell_type": "markdown",
      "metadata": {
        "id": "ljlQCXB6hsm6",
        "colab_type": "text"
      },
      "source": [
        "## 挑幾個來辨識看看"
      ]
    },
    {
      "cell_type": "code",
      "metadata": {
        "id": "oIJfBr9fizIL",
        "colab_type": "code",
        "colab": {}
      },
      "source": [
        "predict = model.predict_classes(x_test)"
      ],
      "execution_count": 0,
      "outputs": []
    },
    {
      "cell_type": "code",
      "metadata": {
        "id": "kifTFsLqi1je",
        "colab_type": "code",
        "colab": {}
      },
      "source": [
        "pick = np.random.randint(1,9999, 5)\n",
        "\n",
        "for i in range(5):\n",
        "    plt.subplot(1,5,i+1)\n",
        "    plt.imshow(x_test[pick[i]].reshape(28,28), cmap='gray_r')\n",
        "    plt.title(predict[pick[i]])\n",
        "    plt.axis(\"off\")"
      ],
      "execution_count": 0,
      "outputs": []
    }
  ]
}