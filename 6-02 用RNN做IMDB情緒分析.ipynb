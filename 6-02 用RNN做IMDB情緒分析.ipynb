{
  "nbformat": 4,
  "nbformat_minor": 0,
  "metadata": {
    "anaconda-cloud": {},
    "kernelspec": {
      "display_name": "Python 3",
      "language": "python",
      "name": "python3"
    },
    "language_info": {
      "codemirror_mode": {
        "name": "ipython",
        "version": 3
      },
      "file_extension": ".py",
      "mimetype": "text/x-python",
      "name": "python",
      "nbconvert_exporter": "python",
      "pygments_lexer": "ipython3",
      "version": "3.7.1"
    },
    "colab": {
      "name": "6-02 用RNN做IMDB情緒分析.ipynb",
      "provenance": [],
      "collapsed_sections": []
    }
  },
  "cells": [
    {
      "cell_type": "markdown",
      "metadata": {
        "id": "faorbkN5j7lI",
        "colab_type": "text"
      },
      "source": [
        "# 用RNN做IMDB情緒分析"
      ]
    },
    {
      "cell_type": "code",
      "metadata": {
        "nbpresent": {
          "id": "a73ce944-1f06-4b48-91eb-da5ff43936f9"
        },
        "id": "BNt0jojrj7lK",
        "colab_type": "code",
        "colab": {}
      },
      "source": [
        "%matplotlib inline\n",
        "import numpy as np\n",
        "import matplotlib.pyplot as plt"
      ],
      "execution_count": 0,
      "outputs": []
    },
    {
      "cell_type": "markdown",
      "metadata": {
        "id": "n7mLK8w0j7lO",
        "colab_type": "text"
      },
      "source": [
        "## 載入IMDB資料集"
      ]
    },
    {
      "cell_type": "code",
      "metadata": {
        "id": "0aEYlHc7j7lP",
        "colab_type": "code",
        "colab": {}
      },
      "source": [
        "from keras.datasets import imdb"
      ],
      "execution_count": 0,
      "outputs": []
    },
    {
      "cell_type": "code",
      "metadata": {
        "id": "jeako1ywj7lT",
        "colab_type": "code",
        "colab": {}
      },
      "source": [
        "(x_train, y_train), (x_test, y_test) = imdb.load_data(num_words=2000)"
      ],
      "execution_count": 0,
      "outputs": []
    },
    {
      "cell_type": "markdown",
      "metadata": {
        "id": "bKMiuLrSj7lW",
        "colab_type": "text"
      },
      "source": [
        "### 觀察輸入資料"
      ]
    },
    {
      "cell_type": "code",
      "metadata": {
        "id": "atv7nkOikRqV",
        "colab_type": "code",
        "colab": {}
      },
      "source": [
        "x_train.shape"
      ],
      "execution_count": 0,
      "outputs": []
    },
    {
      "cell_type": "code",
      "metadata": {
        "id": "xcsq6MHcj7lW",
        "colab_type": "code",
        "colab": {}
      },
      "source": [
        "type(x_train[0])"
      ],
      "execution_count": 0,
      "outputs": []
    },
    {
      "cell_type": "code",
      "metadata": {
        "id": "-tgQj2-zlRYr",
        "colab_type": "code",
        "colab": {}
      },
      "source": [
        "x_train[0]"
      ],
      "execution_count": 0,
      "outputs": []
    },
    {
      "cell_type": "code",
      "metadata": {
        "id": "LhT96Rgfj7lZ",
        "colab_type": "code",
        "colab": {}
      },
      "source": [
        "x_train[0][:5]"
      ],
      "execution_count": 0,
      "outputs": []
    },
    {
      "cell_type": "code",
      "metadata": {
        "id": "D2eMafMwkcfy",
        "colab_type": "code",
        "colab": {}
      },
      "source": [
        "for i in range(10):\n",
        "  print(len(x_train[i]))"
      ],
      "execution_count": 0,
      "outputs": []
    },
    {
      "cell_type": "markdown",
      "metadata": {
        "id": "xCDjomKjj7ld",
        "colab_type": "text"
      },
      "source": [
        "### 觀察輸出資料"
      ]
    },
    {
      "cell_type": "code",
      "metadata": {
        "id": "dD-DFcNvj7le",
        "colab_type": "code",
        "colab": {}
      },
      "source": [
        "y_train[:5]"
      ],
      "execution_count": 0,
      "outputs": []
    },
    {
      "cell_type": "markdown",
      "metadata": {
        "id": "8l4IYjt_j7li",
        "colab_type": "text"
      },
      "source": [
        "### 將輸入資料設為相同長度\n",
        "\n",
        "太長的截斷，太短的補 0 。"
      ]
    },
    {
      "cell_type": "code",
      "metadata": {
        "id": "8DFovXUdj7li",
        "colab_type": "code",
        "colab": {}
      },
      "source": [
        "from keras.preprocessing import sequence"
      ],
      "execution_count": 0,
      "outputs": []
    },
    {
      "cell_type": "code",
      "metadata": {
        "id": "42525PInj7ll",
        "colab_type": "code",
        "colab": {}
      },
      "source": [
        "x_train = sequence.pad_sequences(x_train, maxlen=100, padding='post')\n",
        "x_test = sequence.pad_sequences(x_test, maxlen=100, padding='post')"
      ],
      "execution_count": 0,
      "outputs": []
    },
    {
      "cell_type": "code",
      "metadata": {
        "id": "O0VlhsxOj7ln",
        "colab_type": "code",
        "colab": {}
      },
      "source": [
        "x_train.shape"
      ],
      "execution_count": 0,
      "outputs": []
    },
    {
      "cell_type": "code",
      "metadata": {
        "id": "D5ypPEUZk5my",
        "colab_type": "code",
        "colab": {}
      },
      "source": [
        "x_train[0]"
      ],
      "execution_count": 0,
      "outputs": []
    },
    {
      "cell_type": "code",
      "metadata": {
        "id": "3xzqq1vsj7lq",
        "colab_type": "code",
        "colab": {}
      },
      "source": [
        "x_train[5]"
      ],
      "execution_count": 0,
      "outputs": []
    },
    {
      "cell_type": "markdown",
      "metadata": {
        "id": "6KGgbnRij7lt",
        "colab_type": "text"
      },
      "source": [
        "### 建構神經網路模型"
      ]
    },
    {
      "cell_type": "code",
      "metadata": {
        "id": "3_1R-rLmj7lu",
        "colab_type": "code",
        "colab": {}
      },
      "source": [
        "from keras.models import Sequential\n",
        "from keras.layers import Dense, Embedding, Flatten, Dropout\n",
        "from keras.layers import SimpleRNN, LSTM, GRU"
      ],
      "execution_count": 0,
      "outputs": []
    },
    {
      "cell_type": "code",
      "metadata": {
        "nbpresent": {
          "id": "924cda44-78f6-4bbc-a669-68e5bdeb4704"
        },
        "id": "t0TNFkclj7lw",
        "colab_type": "code",
        "colab": {}
      },
      "source": [
        "model = Sequential()"
      ],
      "execution_count": 0,
      "outputs": []
    },
    {
      "cell_type": "code",
      "metadata": {
        "id": "3AP5GPpcts5g",
        "colab_type": "code",
        "colab": {}
      },
      "source": [
        "#1\n",
        "model.add(Embedding(2000, 32, input_length=100))\n",
        "model.add(Dropout(0.2))\n",
        "model.add(Flatten())\n",
        "model.add(Dropout(0.5))\n",
        "model.add(Dense(256, activation='relu'))\n",
        "model.add(Dropout(0.5))\n",
        "model.add(Dense(1, activation='sigmoid'))"
      ],
      "execution_count": 0,
      "outputs": []
    },
    {
      "cell_type": "code",
      "metadata": {
        "id": "z7tZYArFtyFA",
        "colab_type": "code",
        "colab": {}
      },
      "source": [
        "#2\n",
        "model.add(Embedding(2000, 32))\n",
        "model.add(Dropout(0.35))\n",
        "model.add(SimpleRNN(32))\n",
        "model.add(Dense(256, activation='relu'))\n",
        "model.add(Dropout(0.35))\n",
        "model.add(Dense(1, activation='sigmoid'))"
      ],
      "execution_count": 0,
      "outputs": []
    },
    {
      "cell_type": "code",
      "metadata": {
        "nbpresent": {
          "id": "654a314d-0144-4421-a293-3586e91cfedd"
        },
        "id": "d6_hcDgvj7ly",
        "colab_type": "code",
        "colab": {}
      },
      "source": [
        "#3\n",
        "model.add(Embedding(2000, 32))\n",
        "model.add(LSTM(32))\n",
        "model.add(Dropout(0.2))\n",
        "model.add(Dense(256, activation='relu'))\n",
        "model.add(Dropout(0.2))\n",
        "model.add(Dense(1, activation='sigmoid'))"
      ],
      "execution_count": 0,
      "outputs": []
    },
    {
      "cell_type": "code",
      "metadata": {
        "id": "4K69X0bMtzCC",
        "colab_type": "code",
        "colab": {}
      },
      "source": [
        "#4\n",
        "model.add(Embedding(2000, 32))\n",
        "model.add(GRU(32))\n",
        "model.add(Dense(256, activation='relu'))\n",
        "model.add(Dense(1, activation='sigmoid'))"
      ],
      "execution_count": 0,
      "outputs": []
    },
    {
      "cell_type": "code",
      "metadata": {
        "id": "ZmmtxzyIj7l7",
        "colab_type": "code",
        "colab": {}
      },
      "source": [
        "model.summary()"
      ],
      "execution_count": 0,
      "outputs": []
    },
    {
      "cell_type": "code",
      "metadata": {
        "id": "Ao_0EnXZl2lW",
        "colab_type": "code",
        "colab": {}
      },
      "source": [
        "# LSTM\n",
        "(32+32+1)*3*32 + (32+32+1)*32"
      ],
      "execution_count": 0,
      "outputs": []
    },
    {
      "cell_type": "code",
      "metadata": {
        "id": "DRXQIZbjzbZJ",
        "colab_type": "code",
        "colab": {}
      },
      "source": [
        "# GRU\n",
        "(32+32+1)*2*32 + (32+32+1)*32"
      ],
      "execution_count": 0,
      "outputs": []
    },
    {
      "cell_type": "markdown",
      "metadata": {
        "id": "MQ8P8e9Aj7mE",
        "colab_type": "text"
      },
      "source": [
        "### 組裝模型"
      ]
    },
    {
      "cell_type": "code",
      "metadata": {
        "nbpresent": {
          "id": "9593a32d-9089-48fb-8e65-f39cb0137f08"
        },
        "id": "Zu3XYBIZj7mE",
        "colab_type": "code",
        "colab": {}
      },
      "source": [
        "model.compile(loss='binary_crossentropy', optimizer='adam', metrics=['accuracy'])"
      ],
      "execution_count": 0,
      "outputs": []
    },
    {
      "cell_type": "markdown",
      "metadata": {
        "id": "_XP-XcA1j7mG",
        "colab_type": "text"
      },
      "source": [
        "## 訓練模型"
      ]
    },
    {
      "cell_type": "code",
      "metadata": {
        "nbpresent": {
          "id": "29d4727a-4b5a-463c-9cc7-1a7df697e774"
        },
        "id": "cwALkChbj7mH",
        "colab_type": "code",
        "colab": {}
      },
      "source": [
        "history = model.fit(x_train, y_train, batch_size=100, epochs=10, validation_split=0.2)"
      ],
      "execution_count": 0,
      "outputs": []
    },
    {
      "cell_type": "code",
      "metadata": {
        "id": "qUzp2zmKxGjq",
        "colab_type": "code",
        "colab": {}
      },
      "source": [
        "plt.plot(history.history['accuracy'], label='acc')\n",
        "plt.plot(history.history['val_accuracy'], label='val_acc')\n",
        "plt.xlabel('epoch')\n",
        "plt.ylabel('Acc')\n",
        "plt.legend(loc=\"upper left\")"
      ],
      "execution_count": 0,
      "outputs": []
    },
    {
      "cell_type": "markdown",
      "metadata": {
        "id": "fgFLpytVj7mJ",
        "colab_type": "text"
      },
      "source": [
        "## 評估模型"
      ]
    },
    {
      "cell_type": "code",
      "metadata": {
        "id": "I7DaEGdcj7mJ",
        "colab_type": "code",
        "colab": {}
      },
      "source": [
        "score = model.evaluate(x_test, y_test)"
      ],
      "execution_count": 0,
      "outputs": []
    },
    {
      "cell_type": "code",
      "metadata": {
        "id": "bLv82FnTj7mL",
        "colab_type": "code",
        "colab": {}
      },
      "source": [
        "print('測試資料正確率:', score[1])"
      ],
      "execution_count": 0,
      "outputs": []
    }
  ]
}