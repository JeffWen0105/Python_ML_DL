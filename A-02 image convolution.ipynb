{
  "nbformat": 4,
  "nbformat_minor": 0,
  "metadata": {
    "colab": {
      "name": "image convolution.ipynb",
      "provenance": [],
      "collapsed_sections": []
    },
    "kernelspec": {
      "name": "python3",
      "display_name": "Python 3"
    }
  },
  "cells": [
    {
      "cell_type": "code",
      "metadata": {
        "id": "0_8KTjorPZ0s",
        "colab_type": "code",
        "colab": {}
      },
      "source": [
        "%matplotlib inline\n",
        "import numpy as np\n",
        "from scipy import ndimage\n",
        "import matplotlib.pyplot as plt"
      ],
      "execution_count": 0,
      "outputs": []
    },
    {
      "cell_type": "code",
      "metadata": {
        "id": "Zmya2EpuM5L2",
        "colab_type": "code",
        "colab": {}
      },
      "source": [
        "def convolve(x, w, padding=True):\n",
        "  newx = ndimage.convolve(x, np.flip(w), mode='constant')\n",
        "  if padding:\n",
        "    return newx\n",
        "  else:\n",
        "    return newx[1:-1,1:-1]"
      ],
      "execution_count": 0,
      "outputs": []
    },
    {
      "cell_type": "code",
      "metadata": {
        "id": "tpzpf5pAVP6l",
        "colab_type": "code",
        "colab": {}
      },
      "source": [
        "def visualize(x):\n",
        "  fig, ax = plt.subplots(figsize=x.shape)\n",
        "  ax.matshow(x, cmap=plt.cm.Blues, alpha=0.3)\n",
        "  for i in range(x.shape[0]):\n",
        "      for j in range(x.shape[1]):\n",
        "          ax.text(x=j, y=i, s=x[i, j], va='center', ha='center')\n",
        "\n",
        "  ax.grid(False)\n",
        "  ax.set_xticks([])\n",
        "  ax.set_yticks([])\n",
        "\n",
        "  for i in np.linspace(0.5,x.shape[0]-1.5,x.shape[0]-1):\n",
        "    ax.axhline(i, c='k', lw=1)\n",
        "  \n",
        "  for i in np.linspace(0.5,x.shape[1]-1.5,x.shape[1]-1):\n",
        "    ax.axvline(i, c='k', lw=1)"
      ],
      "execution_count": 0,
      "outputs": []
    },
    {
      "cell_type": "code",
      "metadata": {
        "id": "Ro_y0vRSVyu9",
        "colab_type": "code",
        "colab": {}
      },
      "source": [
        "x = np.random.randint(0, 3, (5, 5))\n",
        "visualize(x)"
      ],
      "execution_count": 0,
      "outputs": []
    },
    {
      "cell_type": "code",
      "metadata": {
        "id": "l5wNnDE-WUL1",
        "colab_type": "code",
        "colab": {}
      },
      "source": [
        "w = np.random.randint(0, 2, (3, 3))\n",
        "visualize(w)"
      ],
      "execution_count": 0,
      "outputs": []
    },
    {
      "cell_type": "code",
      "metadata": {
        "id": "VRljlRbESdfO",
        "colab_type": "code",
        "colab": {}
      },
      "source": [
        "newx = convolve(x, w, padding=False)"
      ],
      "execution_count": 0,
      "outputs": []
    },
    {
      "cell_type": "code",
      "metadata": {
        "id": "3HIwxJ_YWc_x",
        "colab_type": "code",
        "colab": {}
      },
      "source": [
        "visualize(newx)"
      ],
      "execution_count": 0,
      "outputs": []
    },
    {
      "cell_type": "code",
      "metadata": {
        "id": "46Dj2Y1ymX-H",
        "colab_type": "code",
        "colab": {}
      },
      "source": [
        "sobelx = np.array([[1, 0, -1],[2, 0, -2],[1, 0, -1]])\n",
        "sobely = np.array([[1, 2, 1],[0, 0, 0],[-1, -2, -1]])"
      ],
      "execution_count": 0,
      "outputs": []
    },
    {
      "cell_type": "code",
      "metadata": {
        "id": "xmukNdvvmoUO",
        "colab_type": "code",
        "colab": {}
      },
      "source": [
        "visualize(sobely)"
      ],
      "execution_count": 0,
      "outputs": []
    }
  ]
}