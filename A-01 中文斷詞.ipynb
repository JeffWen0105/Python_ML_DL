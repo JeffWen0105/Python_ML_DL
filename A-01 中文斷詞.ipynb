{
 "cells": [
  {
   "cell_type": "markdown",
   "metadata": {},
   "source": [
    "<a href=\"https://colab.research.google.com/github/victorgau/Python_ML_DL/blob/master/A-01%20中文斷詞.ipynb\" target=\"_parent\"><img src=\"https://colab.research.google.com/assets/colab-badge.svg\" alt=\"Open In Colab\"/></a>"
   ]
  },
  {
   "cell_type": "markdown",
   "metadata": {},
   "source": [
    "# 中文斷詞"
   ]
  },
  {
   "cell_type": "markdown",
   "metadata": {},
   "source": [
    "參考連結：\n",
    "\n",
    "* https://youtu.be/nYTpBWwPc4U\n",
    "* https://github.com/fxsjy/jieba\n",
    "* https://github.com/Droidtown/ArticutAPI"
   ]
  },
  {
   "cell_type": "code",
   "execution_count": null,
   "metadata": {},
   "outputs": [],
   "source": [
    "input1 = \"鮑爾拒絕負利率 BMO：不妨礙寬鬆政策與避險因素推升金價\"\n",
    "input2 = \"中國4月固定資產投資年減10.3% 略低預期\"\n",
    "input3 = \"疫情推升雲端服務需求成長 Q2全球伺服器出貨季增15%\""
   ]
  },
  {
   "cell_type": "markdown",
   "metadata": {},
   "source": [
    "## 結巴中文分詞"
   ]
  },
  {
   "cell_type": "code",
   "execution_count": null,
   "metadata": {},
   "outputs": [],
   "source": [
    "!pip install -q jieba"
   ]
  },
  {
   "cell_type": "code",
   "execution_count": null,
   "metadata": {},
   "outputs": [],
   "source": [
    "import jieba"
   ]
  },
  {
   "cell_type": "code",
   "execution_count": null,
   "metadata": {},
   "outputs": [],
   "source": [
    "print(list(jieba.cut(input3)))"
   ]
  },
  {
   "cell_type": "markdown",
   "metadata": {},
   "source": [
    "## Articut"
   ]
  },
  {
   "cell_type": "code",
   "execution_count": null,
   "metadata": {},
   "outputs": [],
   "source": [
    "!git clone https://github.com/Droidtown/ArticutAPI.git\n",
    "!pip install -q graphene"
   ]
  },
  {
   "cell_type": "code",
   "execution_count": null,
   "metadata": {},
   "outputs": [],
   "source": [
    "from ArticutAPI.ArticutAPI import Articut"
   ]
  },
  {
   "cell_type": "code",
   "execution_count": null,
   "metadata": {},
   "outputs": [],
   "source": [
    "articut = Articut()\n",
    "result = articut.parse(input3)\n",
    "print(result['result_segmentation'].split(\"/\"))"
   ]
  }
 ],
 "metadata": {
  "kernelspec": {
   "display_name": "Python 3",
   "language": "python",
   "name": "python3"
  },
  "language_info": {
   "codemirror_mode": {
    "name": "ipython",
    "version": 3
   },
   "file_extension": ".py",
   "mimetype": "text/x-python",
   "name": "python",
   "nbconvert_exporter": "python",
   "pygments_lexer": "ipython3",
   "version": "3.7.1"
  }
 },
 "nbformat": 4,
 "nbformat_minor": 2
}
