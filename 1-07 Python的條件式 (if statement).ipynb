{
 "cells": [
  {
   "cell_type": "markdown",
   "metadata": {},
   "source": [
    "# Python 的 if 條件式"
   ]
  },
  {
   "cell_type": "markdown",
   "metadata": {},
   "source": [
    "## 語法\n",
    "\n",
    "```python\n",
    "# 語法 01\n",
    "if 條件式:\n",
    "    欲執行程式區塊\n",
    "\n",
    "# 語法 02\n",
    "if 條件式:\n",
    "    欲執行程式區塊\n",
    "else:\n",
    "    欲執行程式區塊\n",
    "\n",
    "# 語法 03\n",
    "if 條件式:\n",
    "    欲執行程式區塊\n",
    "elif 條件式:\n",
    "    欲執行程式區塊\n",
    "else:\n",
    "    欲執行程式區塊\n",
    "    \n",
    "```\n",
    "\n",
    "條件式的部分，可以是多個條件式的 and, or, 跟 not 的組合。\n",
    "\n",
    "***"
   ]
  },
  {
   "cell_type": "code",
   "execution_count": null,
   "metadata": {},
   "outputs": [],
   "source": [
    "a = 30\n",
    "b = 20\n",
    "\n",
    "if a > b:\n",
    "    print(\"a > b\")"
   ]
  },
  {
   "cell_type": "code",
   "execution_count": null,
   "metadata": {},
   "outputs": [],
   "source": [
    "a = 20\n",
    "b = 20\n",
    "\n",
    "if a > b:\n",
    "    print(\"a > b\")\n",
    "elif a < b:\n",
    "    print(\"a < b\")\n",
    "else:\n",
    "    print(\"a = b\")"
   ]
  },
  {
   "cell_type": "code",
   "execution_count": null,
   "metadata": {},
   "outputs": [],
   "source": [
    "a = 20\n",
    "b = 20\n",
    "\n",
    "if a != b:\n",
    "    print(\"a != b\")\n",
    "else:\n",
    "    print(\"a = b\")"
   ]
  },
  {
   "cell_type": "code",
   "execution_count": null,
   "metadata": {},
   "outputs": [],
   "source": [
    "c = [1, 2, 3]\n",
    "\n",
    "if c:\n",
    "    for e in c:\n",
    "        print(e)"
   ]
  },
  {
   "cell_type": "code",
   "execution_count": null,
   "metadata": {},
   "outputs": [],
   "source": [
    "s = \"\"\n",
    "\n",
    "if s:\n",
    "    print(\"s 的值是：\", s)\n",
    "else:\n",
    "    print(\"s 是空字串\")"
   ]
  },
  {
   "cell_type": "markdown",
   "metadata": {},
   "source": [
    "---"
   ]
  },
  {
   "cell_type": "markdown",
   "metadata": {},
   "source": [
    "## 複合條件的使用"
   ]
  },
  {
   "cell_type": "code",
   "execution_count": null,
   "metadata": {},
   "outputs": [],
   "source": [
    "a = 25\n",
    "\n",
    "if 0 <= a <= 20:\n",
    "    print(\"a 符合條件\")\n",
    "else:\n",
    "    print(\"a 不符合條件\")"
   ]
  },
  {
   "cell_type": "code",
   "execution_count": null,
   "metadata": {},
   "outputs": [],
   "source": [
    "s = \"\"\n",
    "\n",
    "if not s:\n",
    "    print(\"s 是空字串\")"
   ]
  },
  {
   "cell_type": "markdown",
   "metadata": {},
   "source": [
    "---"
   ]
  },
  {
   "cell_type": "markdown",
   "metadata": {},
   "source": [
    "## 【練習】 \n",
    "### 請寫一個計算BMI的程式\n",
    "\n",
    "BMI 定義如下：\n",
    "$$BMI=\\frac{體重(kg)}{身高(m)^2}$$\n",
    "\n",
    "|BMI大小|意義|\n",
    "|---|---|\n",
    "|BMI<18.5|體重過輕|\n",
    "|18.5<=BMI<24|健康體位|\n",
    "|24<=BMI<27|體重過重|\n",
    "|27<=BMI<30|輕度肥胖|\n",
    "|30<=BMI<35|中度肥胖|\n",
    "|BMI>=35|重度肥胖|\n",
    "\n",
    "[BMI 測試](https://goo.gl/ygwfkw)"
   ]
  },
  {
   "cell_type": "markdown",
   "metadata": {},
   "source": [
    "請計算 bmi 值，並用 if statement 判斷體重是否過重或過輕！"
   ]
  },
  {
   "cell_type": "code",
   "execution_count": null,
   "metadata": {},
   "outputs": [],
   "source": [
    "# 讀入身高\n",
    "h = input(\"請輸入您的身高 (cm)：\")\n",
    "# 讀入體重\n",
    "w = input(\"請輸入您的體重 (kg)：\")"
   ]
  }
 ],
 "metadata": {
  "kernelspec": {
   "display_name": "Python 3",
   "language": "python",
   "name": "python3"
  },
  "language_info": {
   "codemirror_mode": {
    "name": "ipython",
    "version": 3
   },
   "file_extension": ".py",
   "mimetype": "text/x-python",
   "name": "python",
   "nbconvert_exporter": "python",
   "pygments_lexer": "ipython3",
   "version": "3.7.1"
  }
 },
 "nbformat": 4,
 "nbformat_minor": 2
}
