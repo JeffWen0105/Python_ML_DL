{
  "nbformat": 4,
  "nbformat_minor": 0,
  "metadata": {
    "colab": {
      "name": "5-04 使用 keras.applications.ipynb",
      "provenance": [],
      "collapsed_sections": []
    },
    "kernelspec": {
      "name": "python3",
      "display_name": "Python 3"
    }
  },
  "cells": [
    {
      "cell_type": "markdown",
      "metadata": {
        "id": "AMqRQrGRclBu",
        "colab_type": "text"
      },
      "source": [
        "# 使用 keras.applications\n",
        "\n",
        "參考連結：\n",
        "\n",
        "https://keras.io/api/applications/"
      ]
    },
    {
      "cell_type": "code",
      "metadata": {
        "id": "v58u9Gx0Vj-b",
        "colab_type": "code",
        "colab": {}
      },
      "source": [
        "from keras.applications.resnet50 import ResNet50\n",
        "from keras.preprocessing import image\n",
        "from keras.applications.resnet50 import preprocess_input, decode_predictions\n",
        "import numpy as np"
      ],
      "execution_count": 0,
      "outputs": []
    },
    {
      "cell_type": "code",
      "metadata": {
        "id": "fghJmuCyWKQY",
        "colab_type": "code",
        "colab": {}
      },
      "source": [
        "model = ResNet50(weights='imagenet')"
      ],
      "execution_count": 0,
      "outputs": []
    },
    {
      "cell_type": "code",
      "metadata": {
        "id": "jn_qAUbrVuIh",
        "colab_type": "code",
        "colab": {}
      },
      "source": [
        "img_path = 'image02.jpg'\n",
        "img = image.load_img(img_path, target_size=(224, 224))"
      ],
      "execution_count": 0,
      "outputs": []
    },
    {
      "cell_type": "code",
      "metadata": {
        "id": "4dmNM9ztV4BM",
        "colab_type": "code",
        "colab": {}
      },
      "source": [
        "x = image.img_to_array(img)"
      ],
      "execution_count": 0,
      "outputs": []
    },
    {
      "cell_type": "code",
      "metadata": {
        "id": "CInWZy7aXWpy",
        "colab_type": "code",
        "colab": {}
      },
      "source": [
        "x.shape"
      ],
      "execution_count": 0,
      "outputs": []
    },
    {
      "cell_type": "code",
      "metadata": {
        "id": "mwFEqi4PXT2W",
        "colab_type": "code",
        "colab": {}
      },
      "source": [
        "x = np.expand_dims(x, axis=0)"
      ],
      "execution_count": 0,
      "outputs": []
    },
    {
      "cell_type": "code",
      "metadata": {
        "id": "AX5yn2ypXYtd",
        "colab_type": "code",
        "colab": {}
      },
      "source": [
        "x.shape"
      ],
      "execution_count": 0,
      "outputs": []
    },
    {
      "cell_type": "code",
      "metadata": {
        "id": "WDJ6UkjDXUac",
        "colab_type": "code",
        "colab": {}
      },
      "source": [
        "x = preprocess_input(x)"
      ],
      "execution_count": 0,
      "outputs": []
    },
    {
      "cell_type": "code",
      "metadata": {
        "id": "W8M8qXuCWCAq",
        "colab_type": "code",
        "colab": {}
      },
      "source": [
        "preds = model.predict(x)"
      ],
      "execution_count": 0,
      "outputs": []
    },
    {
      "cell_type": "code",
      "metadata": {
        "id": "A4zEsuBuWHxW",
        "colab_type": "code",
        "colab": {}
      },
      "source": [
        "print('Predicted:', decode_predictions(preds, top=3)[0])"
      ],
      "execution_count": 0,
      "outputs": []
    }
  ]
}